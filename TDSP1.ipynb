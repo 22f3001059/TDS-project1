{
 "cells": [
  {
   "cell_type": "code",
   "execution_count": 3,
   "id": "17871c8c-d5b7-4881-8fb2-c3f084deec73",
   "metadata": {},
   "outputs": [],
   "source": [
    "import pandas as pd\n",
    "import numpy as np\n",
    "import matplotlib.pyplot as plt"
   ]
  },
  {
   "cell_type": "markdown",
   "id": "7108a27f-97e8-4871-ae8d-c4c53a47dfe9",
   "metadata": {},
   "source": [
    "#### Q1.  Who are the top 5 users in Berlin with the highest number of followers? List their login in order, comma-separated"
   ]
  },
  {
   "cell_type": "code",
   "execution_count": 4,
   "id": "4259def7-3934-411b-b441-64d7d24bd92c",
   "metadata": {},
   "outputs": [
    {
     "data": {
      "text/html": [
       "<div>\n",
       "<style scoped>\n",
       "    .dataframe tbody tr th:only-of-type {\n",
       "        vertical-align: middle;\n",
       "    }\n",
       "\n",
       "    .dataframe tbody tr th {\n",
       "        vertical-align: top;\n",
       "    }\n",
       "\n",
       "    .dataframe thead th {\n",
       "        text-align: right;\n",
       "    }\n",
       "</style>\n",
       "<table border=\"1\" class=\"dataframe\">\n",
       "  <thead>\n",
       "    <tr style=\"text-align: right;\">\n",
       "      <th></th>\n",
       "      <th>login</th>\n",
       "      <th>name</th>\n",
       "      <th>company</th>\n",
       "      <th>location</th>\n",
       "      <th>email</th>\n",
       "      <th>hireable</th>\n",
       "      <th>bio</th>\n",
       "      <th>public_repos</th>\n",
       "      <th>followers</th>\n",
       "      <th>following</th>\n",
       "      <th>created_at</th>\n",
       "    </tr>\n",
       "  </thead>\n",
       "  <tbody>\n",
       "    <tr>\n",
       "      <th>0</th>\n",
       "      <td>tiangolo</td>\n",
       "      <td>Sebastián Ramírez</td>\n",
       "      <td>NaN</td>\n",
       "      <td>Berlin, Germany</td>\n",
       "      <td>tiangolo@gmail.com</td>\n",
       "      <td>True</td>\n",
       "      <td>Creator of FastAPI, Typer, SQLModel, Asyncer, ...</td>\n",
       "      <td>73</td>\n",
       "      <td>26459</td>\n",
       "      <td>3</td>\n",
       "      <td>2012-01-12T22:37:04Z</td>\n",
       "    </tr>\n",
       "    <tr>\n",
       "      <th>1</th>\n",
       "      <td>schacon</td>\n",
       "      <td>Scott Chacon</td>\n",
       "      <td>GITBUTLERAPP</td>\n",
       "      <td>Berlin, Germany</td>\n",
       "      <td>schacon@gmail.com</td>\n",
       "      <td>False</td>\n",
       "      <td>NaN</td>\n",
       "      <td>215</td>\n",
       "      <td>13758</td>\n",
       "      <td>26</td>\n",
       "      <td>2008-01-27T17:19:28Z</td>\n",
       "    </tr>\n",
       "    <tr>\n",
       "      <th>2</th>\n",
       "      <td>rwieruch</td>\n",
       "      <td>Robin Wieruch</td>\n",
       "      <td>NaN</td>\n",
       "      <td>Berlin/Remote</td>\n",
       "      <td>NaN</td>\n",
       "      <td>True</td>\n",
       "      <td>React &amp; Next.js • JavaScript &amp; TypeScript • Fr...</td>\n",
       "      <td>151</td>\n",
       "      <td>8619</td>\n",
       "      <td>30</td>\n",
       "      <td>2012-10-03T15:11:48Z</td>\n",
       "    </tr>\n",
       "    <tr>\n",
       "      <th>3</th>\n",
       "      <td>shuding</td>\n",
       "      <td>Shu Ding</td>\n",
       "      <td>VERCEL</td>\n",
       "      <td>Berlin</td>\n",
       "      <td>g@shud.in</td>\n",
       "      <td>False</td>\n",
       "      <td>Be curious. Read widely. Try new things. — aar...</td>\n",
       "      <td>149</td>\n",
       "      <td>6760</td>\n",
       "      <td>345</td>\n",
       "      <td>2013-02-23T07:46:30Z</td>\n",
       "    </tr>\n",
       "    <tr>\n",
       "      <th>4</th>\n",
       "      <td>android10</td>\n",
       "      <td>Fernando Cejas</td>\n",
       "      <td>PEPPR-IO</td>\n",
       "      <td>Berlin, Germany</td>\n",
       "      <td>android10@fernandocejas.com</td>\n",
       "      <td>True</td>\n",
       "      <td>Quantum Engineering at @Qruise-ai. Former Dire...</td>\n",
       "      <td>79</td>\n",
       "      <td>6716</td>\n",
       "      <td>85</td>\n",
       "      <td>2012-01-20T21:35:31Z</td>\n",
       "    </tr>\n",
       "  </tbody>\n",
       "</table>\n",
       "</div>"
      ],
      "text/plain": [
       "       login               name       company         location  \\\n",
       "0   tiangolo  Sebastián Ramírez           NaN  Berlin, Germany   \n",
       "1    schacon       Scott Chacon  GITBUTLERAPP  Berlin, Germany   \n",
       "2   rwieruch      Robin Wieruch           NaN    Berlin/Remote   \n",
       "3    shuding           Shu Ding        VERCEL           Berlin   \n",
       "4  android10     Fernando Cejas      PEPPR-IO  Berlin, Germany   \n",
       "\n",
       "                         email  hireable  \\\n",
       "0           tiangolo@gmail.com      True   \n",
       "1            schacon@gmail.com     False   \n",
       "2                          NaN      True   \n",
       "3                    g@shud.in     False   \n",
       "4  android10@fernandocejas.com      True   \n",
       "\n",
       "                                                 bio  public_repos  followers  \\\n",
       "0  Creator of FastAPI, Typer, SQLModel, Asyncer, ...            73      26459   \n",
       "1                                                NaN           215      13758   \n",
       "2  React & Next.js • JavaScript & TypeScript • Fr...           151       8619   \n",
       "3  Be curious. Read widely. Try new things. — aar...           149       6760   \n",
       "4  Quantum Engineering at @Qruise-ai. Former Dire...            79       6716   \n",
       "\n",
       "   following            created_at  \n",
       "0          3  2012-01-12T22:37:04Z  \n",
       "1         26  2008-01-27T17:19:28Z  \n",
       "2         30  2012-10-03T15:11:48Z  \n",
       "3        345  2013-02-23T07:46:30Z  \n",
       "4         85  2012-01-20T21:35:31Z  "
      ]
     },
     "execution_count": 4,
     "metadata": {},
     "output_type": "execute_result"
    }
   ],
   "source": [
    "users = pd.read_csv('users.csv')\n",
    "users.head()"
   ]
  },
  {
   "cell_type": "code",
   "execution_count": 5,
   "id": "f37b7348-3978-4355-948f-8b87845756c0",
   "metadata": {},
   "outputs": [],
   "source": [
    "users['hireable'] = users['hireable'].fillna(False).astype(bool)"
   ]
  },
  {
   "cell_type": "code",
   "execution_count": 6,
   "id": "a14993f9-48d3-4956-9cca-d4349c30f649",
   "metadata": {},
   "outputs": [
    {
     "name": "stdout",
     "output_type": "stream",
     "text": [
      "tiangolo,schacon,rwieruch,shuding,android10\n"
     ]
    }
   ],
   "source": [
    "top5 = users.sort_values(by='followers', ascending=False).head()\n",
    "print(','.join(top5['login'].tolist()))"
   ]
  },
  {
   "cell_type": "markdown",
   "id": "6cc86ddb-88c3-453c-bf56-29614358b62e",
   "metadata": {},
   "source": [
    "#### Q2. Who are the 5 earliest registered GitHub users in Berlin? List their login in ascending order of created_at, comma-separated."
   ]
  },
  {
   "cell_type": "code",
   "execution_count": 7,
   "id": "afe79990-ccd3-4c8d-b184-45de1f19097c",
   "metadata": {},
   "outputs": [],
   "source": [
    "users['created_at'] = pd.to_datetime(users['created_at'])"
   ]
  },
  {
   "cell_type": "code",
   "execution_count": 8,
   "id": "f9645405-1745-4f06-9ba8-681b5c1e51b0",
   "metadata": {},
   "outputs": [
    {
     "name": "stdout",
     "output_type": "stream",
     "text": [
      "schacon,adamwiggins,myobie,lstoll,znarf\n"
     ]
    }
   ],
   "source": [
    "top_earliest = users.sort_values(by='created_at').head()\n",
    "print(','.join(top_earliest['login'].tolist()))"
   ]
  },
  {
   "cell_type": "markdown",
   "id": "1675cbcf-6a8b-4af8-b24a-1372f68efd6b",
   "metadata": {},
   "source": [
    "#### Q3. What are the 3 most popular license among these users? Ignore missing licenses. List the license_name in order, comma-separated."
   ]
  },
  {
   "cell_type": "code",
   "execution_count": 9,
   "id": "a139a9a8-9ded-4175-b023-fe871850f3a4",
   "metadata": {},
   "outputs": [
    {
     "data": {
      "text/html": [
       "<div>\n",
       "<style scoped>\n",
       "    .dataframe tbody tr th:only-of-type {\n",
       "        vertical-align: middle;\n",
       "    }\n",
       "\n",
       "    .dataframe tbody tr th {\n",
       "        vertical-align: top;\n",
       "    }\n",
       "\n",
       "    .dataframe thead th {\n",
       "        text-align: right;\n",
       "    }\n",
       "</style>\n",
       "<table border=\"1\" class=\"dataframe\">\n",
       "  <thead>\n",
       "    <tr style=\"text-align: right;\">\n",
       "      <th></th>\n",
       "      <th>login</th>\n",
       "      <th>full_name</th>\n",
       "      <th>created_at</th>\n",
       "      <th>stargazers_count</th>\n",
       "      <th>watchers_count</th>\n",
       "      <th>language</th>\n",
       "      <th>has_projects</th>\n",
       "      <th>has_wiki</th>\n",
       "      <th>license_name</th>\n",
       "    </tr>\n",
       "  </thead>\n",
       "  <tbody>\n",
       "    <tr>\n",
       "      <th>0</th>\n",
       "      <td>tiangolo</td>\n",
       "      <td>tiangolo/markdown-include-variants</td>\n",
       "      <td>2024-10-07T17:53:10Z</td>\n",
       "      <td>9</td>\n",
       "      <td>9</td>\n",
       "      <td>Python</td>\n",
       "      <td>False</td>\n",
       "      <td>False</td>\n",
       "      <td>mit</td>\n",
       "    </tr>\n",
       "    <tr>\n",
       "      <th>1</th>\n",
       "      <td>tiangolo</td>\n",
       "      <td>tiangolo/pydantic-sqlalchemy</td>\n",
       "      <td>2020-05-02T16:44:22Z</td>\n",
       "      <td>1174</td>\n",
       "      <td>1174</td>\n",
       "      <td>Python</td>\n",
       "      <td>True</td>\n",
       "      <td>True</td>\n",
       "      <td>mit</td>\n",
       "    </tr>\n",
       "    <tr>\n",
       "      <th>2</th>\n",
       "      <td>tiangolo</td>\n",
       "      <td>tiangolo/PyGithub</td>\n",
       "      <td>2024-10-27T08:52:25Z</td>\n",
       "      <td>7</td>\n",
       "      <td>7</td>\n",
       "      <td>NaN</td>\n",
       "      <td>True</td>\n",
       "      <td>False</td>\n",
       "      <td>lgpl-3.0</td>\n",
       "    </tr>\n",
       "    <tr>\n",
       "      <th>3</th>\n",
       "      <td>tiangolo</td>\n",
       "      <td>tiangolo/dockerswarm.rocks</td>\n",
       "      <td>2019-01-17T13:17:52Z</td>\n",
       "      <td>1094</td>\n",
       "      <td>1094</td>\n",
       "      <td>Python</td>\n",
       "      <td>True</td>\n",
       "      <td>True</td>\n",
       "      <td>NaN</td>\n",
       "    </tr>\n",
       "    <tr>\n",
       "      <th>4</th>\n",
       "      <td>tiangolo</td>\n",
       "      <td>tiangolo/uwsgi-nginx-docker</td>\n",
       "      <td>2016-02-14T14:33:08Z</td>\n",
       "      <td>648</td>\n",
       "      <td>648</td>\n",
       "      <td>Python</td>\n",
       "      <td>True</td>\n",
       "      <td>True</td>\n",
       "      <td>apache-2.0</td>\n",
       "    </tr>\n",
       "  </tbody>\n",
       "</table>\n",
       "</div>"
      ],
      "text/plain": [
       "      login                           full_name            created_at  \\\n",
       "0  tiangolo  tiangolo/markdown-include-variants  2024-10-07T17:53:10Z   \n",
       "1  tiangolo        tiangolo/pydantic-sqlalchemy  2020-05-02T16:44:22Z   \n",
       "2  tiangolo                   tiangolo/PyGithub  2024-10-27T08:52:25Z   \n",
       "3  tiangolo          tiangolo/dockerswarm.rocks  2019-01-17T13:17:52Z   \n",
       "4  tiangolo         tiangolo/uwsgi-nginx-docker  2016-02-14T14:33:08Z   \n",
       "\n",
       "   stargazers_count  watchers_count language  has_projects  has_wiki  \\\n",
       "0                 9               9   Python         False     False   \n",
       "1              1174            1174   Python          True      True   \n",
       "2                 7               7      NaN          True     False   \n",
       "3              1094            1094   Python          True      True   \n",
       "4               648             648   Python          True      True   \n",
       "\n",
       "  license_name  \n",
       "0          mit  \n",
       "1          mit  \n",
       "2     lgpl-3.0  \n",
       "3          NaN  \n",
       "4   apache-2.0  "
      ]
     },
     "execution_count": 9,
     "metadata": {},
     "output_type": "execute_result"
    }
   ],
   "source": [
    "repos = pd.read_csv('repositories.csv')\n",
    "repos.head()"
   ]
  },
  {
   "cell_type": "code",
   "execution_count": 10,
   "id": "f5b0a4ce-ae41-4066-a59a-58e81f27ad47",
   "metadata": {},
   "outputs": [
    {
     "data": {
      "text/plain": [
       "license_name\n",
       "mit           16180\n",
       "apache-2.0     6562\n",
       "other          4632\n",
       "Name: count, dtype: int64"
      ]
     },
     "execution_count": 10,
     "metadata": {},
     "output_type": "execute_result"
    }
   ],
   "source": [
    "repos['license_name'].value_counts().head(3)"
   ]
  },
  {
   "cell_type": "markdown",
   "id": "662f1894-2c60-429c-b06d-cbe36afe6f08",
   "metadata": {},
   "source": [
    "#### Q4. Which company do the majority of these developers work at?"
   ]
  },
  {
   "cell_type": "code",
   "execution_count": 11,
   "id": "93a985b2-4e56-4871-9757-23e6ae5ed0de",
   "metadata": {},
   "outputs": [
    {
     "data": {
      "text/plain": [
       "company\n",
       "MICROSOFT    8\n",
       "Name: count, dtype: int64"
      ]
     },
     "execution_count": 11,
     "metadata": {},
     "output_type": "execute_result"
    }
   ],
   "source": [
    "users['company'].value_counts().head(1)"
   ]
  },
  {
   "cell_type": "markdown",
   "id": "3e73104c-f44c-4e59-aecc-cb10a34578a1",
   "metadata": {},
   "source": [
    "#### Q5. Which programming language is most popular among these users?"
   ]
  },
  {
   "cell_type": "code",
   "execution_count": 12,
   "id": "1abcf548-42aa-43fc-837e-86c6db860617",
   "metadata": {},
   "outputs": [
    {
     "data": {
      "text/plain": [
       "language\n",
       "JavaScript    10457\n",
       "Name: count, dtype: int64"
      ]
     },
     "execution_count": 12,
     "metadata": {},
     "output_type": "execute_result"
    }
   ],
   "source": [
    "repos['language'].value_counts().head(1)"
   ]
  },
  {
   "cell_type": "markdown",
   "id": "bf7abc13-3226-4c35-b42e-400f06cac01d",
   "metadata": {},
   "source": [
    "#### Q6. Which programming language is the second most popular among users who joined after 2020?"
   ]
  },
  {
   "cell_type": "code",
   "execution_count": 13,
   "id": "d01727ac-d1de-4407-a65b-db7a88223d81",
   "metadata": {},
   "outputs": [
    {
     "data": {
      "text/html": [
       "<div>\n",
       "<style scoped>\n",
       "    .dataframe tbody tr th:only-of-type {\n",
       "        vertical-align: middle;\n",
       "    }\n",
       "\n",
       "    .dataframe tbody tr th {\n",
       "        vertical-align: top;\n",
       "    }\n",
       "\n",
       "    .dataframe thead th {\n",
       "        text-align: right;\n",
       "    }\n",
       "</style>\n",
       "<table border=\"1\" class=\"dataframe\">\n",
       "  <thead>\n",
       "    <tr style=\"text-align: right;\">\n",
       "      <th></th>\n",
       "      <th>login</th>\n",
       "      <th>name</th>\n",
       "      <th>company</th>\n",
       "      <th>location</th>\n",
       "      <th>email</th>\n",
       "      <th>hireable</th>\n",
       "      <th>bio</th>\n",
       "      <th>public_repos</th>\n",
       "      <th>followers</th>\n",
       "      <th>following</th>\n",
       "      <th>created_at</th>\n",
       "    </tr>\n",
       "  </thead>\n",
       "  <tbody>\n",
       "    <tr>\n",
       "      <th>37</th>\n",
       "      <td>typst</td>\n",
       "      <td>Typst</td>\n",
       "      <td>NaN</td>\n",
       "      <td>Berlin</td>\n",
       "      <td>hello@typst.app</td>\n",
       "      <td>False</td>\n",
       "      <td>Compose papers faster: Focus on your text and ...</td>\n",
       "      <td>25</td>\n",
       "      <td>2114</td>\n",
       "      <td>0</td>\n",
       "      <td>2020-06-29 15:08:38+00:00</td>\n",
       "    </tr>\n",
       "    <tr>\n",
       "      <th>81</th>\n",
       "      <td>cs-MohamedAyman</td>\n",
       "      <td>Ayman M.</td>\n",
       "      <td>NaN</td>\n",
       "      <td>Berlin, Berlin, Germany</td>\n",
       "      <td>NaN</td>\n",
       "      <td>True</td>\n",
       "      <td>Machine Learning Mentor and Advisor | Research...</td>\n",
       "      <td>13</td>\n",
       "      <td>1075</td>\n",
       "      <td>0</td>\n",
       "      <td>2020-01-22 13:06:45+00:00</td>\n",
       "    </tr>\n",
       "    <tr>\n",
       "      <th>107</th>\n",
       "      <td>zaraco</td>\n",
       "      <td>Zahra Teymouri</td>\n",
       "      <td>VECTRONIC AEROSPACE</td>\n",
       "      <td>Berlin, Germany</td>\n",
       "      <td>zahrateymouri90@gmail.com</td>\n",
       "      <td>False</td>\n",
       "      <td>Software Developer</td>\n",
       "      <td>30</td>\n",
       "      <td>877</td>\n",
       "      <td>909</td>\n",
       "      <td>2020-03-08 12:07:10+00:00</td>\n",
       "    </tr>\n",
       "    <tr>\n",
       "      <th>238</th>\n",
       "      <td>chrisgrieser</td>\n",
       "      <td>Chris Grieser</td>\n",
       "      <td>TECHNICAL UNIVERSITY OF BERLIN</td>\n",
       "      <td>Berlin, Germany</td>\n",
       "      <td>NaN</td>\n",
       "      <td>False</td>\n",
       "      <td>Researcher in sociology &amp; SWE</td>\n",
       "      <td>80</td>\n",
       "      <td>465</td>\n",
       "      <td>26</td>\n",
       "      <td>2020-10-22 10:50:35+00:00</td>\n",
       "    </tr>\n",
       "    <tr>\n",
       "      <th>280</th>\n",
       "      <td>slint-ui</td>\n",
       "      <td>Slint</td>\n",
       "      <td>NaN</td>\n",
       "      <td>Berlin</td>\n",
       "      <td>info@slint.dev</td>\n",
       "      <td>False</td>\n",
       "      <td>Slint - Declarative GUI for Rust, C++, and Jav...</td>\n",
       "      <td>36</td>\n",
       "      <td>393</td>\n",
       "      <td>0</td>\n",
       "      <td>2020-05-03 15:35:02+00:00</td>\n",
       "    </tr>\n",
       "  </tbody>\n",
       "</table>\n",
       "</div>"
      ],
      "text/plain": [
       "               login            name                         company  \\\n",
       "37             typst           Typst                             NaN   \n",
       "81   cs-MohamedAyman        Ayman M.                             NaN   \n",
       "107           zaraco  Zahra Teymouri             VECTRONIC AEROSPACE   \n",
       "238     chrisgrieser   Chris Grieser  TECHNICAL UNIVERSITY OF BERLIN   \n",
       "280         slint-ui           Slint                             NaN   \n",
       "\n",
       "                    location                      email  hireable  \\\n",
       "37                    Berlin            hello@typst.app     False   \n",
       "81   Berlin, Berlin, Germany                        NaN      True   \n",
       "107          Berlin, Germany  zahrateymouri90@gmail.com     False   \n",
       "238          Berlin, Germany                        NaN     False   \n",
       "280                   Berlin             info@slint.dev     False   \n",
       "\n",
       "                                                   bio  public_repos  \\\n",
       "37   Compose papers faster: Focus on your text and ...            25   \n",
       "81   Machine Learning Mentor and Advisor | Research...            13   \n",
       "107                                 Software Developer            30   \n",
       "238                      Researcher in sociology & SWE            80   \n",
       "280  Slint - Declarative GUI for Rust, C++, and Jav...            36   \n",
       "\n",
       "     followers  following                created_at  \n",
       "37        2114          0 2020-06-29 15:08:38+00:00  \n",
       "81        1075          0 2020-01-22 13:06:45+00:00  \n",
       "107        877        909 2020-03-08 12:07:10+00:00  \n",
       "238        465         26 2020-10-22 10:50:35+00:00  \n",
       "280        393          0 2020-05-03 15:35:02+00:00  "
      ]
     },
     "execution_count": 13,
     "metadata": {},
     "output_type": "execute_result"
    }
   ],
   "source": [
    "users_after_2020 = users[users['created_at'] > '2020-01-01']\n",
    "users_after_2020.head()"
   ]
  },
  {
   "cell_type": "code",
   "execution_count": 14,
   "id": "aee537b6-38c7-4aa5-baae-c398fe385053",
   "metadata": {},
   "outputs": [
    {
     "data": {
      "text/plain": [
       "language\n",
       "Python        95\n",
       "JavaScript    89\n",
       "HTML          30\n",
       "TypeScript    29\n",
       "Rust          28\n",
       "Name: count, dtype: int64"
      ]
     },
     "execution_count": 14,
     "metadata": {},
     "output_type": "execute_result"
    }
   ],
   "source": [
    "repos_2020 = repos[repos['login'].isin(users_after_2020['login'].tolist())]\n",
    "repos_2020['language'].value_counts().head()"
   ]
  },
  {
   "cell_type": "markdown",
   "id": "d0b07a2f-bcae-496b-ab7e-188a2f0aa7be",
   "metadata": {},
   "source": [
    "#### Q7. Which language has the highest average number of stars per repository? "
   ]
  },
  {
   "cell_type": "code",
   "execution_count": 15,
   "id": "8c8a119a-e562-4855-8330-23b6dccdfea9",
   "metadata": {},
   "outputs": [
    {
     "name": "stdout",
     "output_type": "stream",
     "text": [
      "Fluent 12954.0\n"
     ]
    }
   ],
   "source": [
    "avg_stars = repos.groupby('language')['stargazers_count'].mean()\n",
    "top_lang = avg_stars.idxmax()\n",
    "top_stars = avg_stars.max()\n",
    "print(top_lang, top_stars)"
   ]
  },
  {
   "cell_type": "markdown",
   "id": "e430846a-1518-409f-8717-cb2f84570460",
   "metadata": {},
   "source": [
    "#### Q8. Let's define leader_strength as followers / (1 + following). Who are the top 5 in terms of leader_strength? List their login in order, comma-separated."
   ]
  },
  {
   "cell_type": "code",
   "execution_count": 16,
   "id": "aa51b046-149f-4ef5-89ff-62586043992c",
   "metadata": {},
   "outputs": [
    {
     "name": "stdout",
     "output_type": "stream",
     "text": [
      "tiangolo,marijnh,vakila,alexeygrigorev,lewagon\n"
     ]
    }
   ],
   "source": [
    "users['leader_strength'] = users['followers'] / (1 + users['following'])\n",
    "top5_lead = users.sort_values(by='leader_strength', ascending=False).head()\n",
    "print(','.join(top5_lead['login'].tolist()))"
   ]
  },
  {
   "cell_type": "markdown",
   "id": "8dd87be3-3a61-4fe1-ab5c-1ef836c545d3",
   "metadata": {},
   "source": [
    "#### Q9. What is the correlation between the number of followers and the number of public repositories among users in Berlin?"
   ]
  },
  {
   "cell_type": "code",
   "execution_count": 17,
   "id": "91e8b274-bde5-41ac-91d2-d965334f2d35",
   "metadata": {},
   "outputs": [
    {
     "data": {
      "text/plain": [
       "0.019092940624105874"
      ]
     },
     "execution_count": 17,
     "metadata": {},
     "output_type": "execute_result"
    }
   ],
   "source": [
    "correlation = users['followers'].corr(users['public_repos'])\n",
    "correlation"
   ]
  },
  {
   "cell_type": "markdown",
   "id": "23dac608-8b88-48d8-aeae-1e11b2cb2b87",
   "metadata": {},
   "source": [
    "#### Q10. Does creating more repos help users get more followers? Using regression, estimate how many additional followers a user gets per additional public repository."
   ]
  },
  {
   "cell_type": "code",
   "execution_count": 18,
   "id": "9eede565-f813-4807-989b-051201f7f411",
   "metadata": {},
   "outputs": [
    {
     "name": "stdout",
     "output_type": "stream",
     "text": [
      "0.322\n"
     ]
    }
   ],
   "source": [
    "import csv\n",
    "followers = []\n",
    "public_repos = []\n",
    "with open('users.csv', 'r', encoding='utf-8') as file:\n",
    "    reader = csv.DictReader(file)\n",
    "    for row in reader:\n",
    "        followers_count = int(row['followers'])\n",
    "        public_repos_count = int(row['public_repos'])\n",
    "        followers.append(followers_count)\n",
    "        public_repos.append(public_repos_count)\n",
    "if len(followers) > 1 and len(public_repos) > 1:\n",
    "    slope, intercept = np.polyfit(public_repos, followers, 1)\n",
    "    \n",
    "    print(f\"{slope:.3f}\")\n",
    "else:\n",
    "    print(\"Error\")"
   ]
  },
  {
   "cell_type": "markdown",
   "id": "b1739602-5cef-48d6-a3ef-3ecc1d12f405",
   "metadata": {},
   "source": [
    "#### Q11. Do people typically enable projects and wikis together? What is the correlation between a repo having projects enabled and having wiki enabled?"
   ]
  },
  {
   "cell_type": "code",
   "execution_count": 19,
   "id": "e680160d-cfa3-42ef-be27-55a772b77171",
   "metadata": {},
   "outputs": [
    {
     "name": "stdout",
     "output_type": "stream",
     "text": [
      "0.402\n"
     ]
    }
   ],
   "source": [
    "if repos['has_projects'].dtype == 'object':\n",
    "    repos['has_projects'] = repos['has_projects'].map({'true': True, 'false': False})\n",
    "if repos['has_wiki'].dtype == 'object':\n",
    "    repos['has_wiki'] = repos['has_wiki'].map({'true': True, 'false': False})\n",
    "    \n",
    "correlation = repos['has_projects'].corr(repos['has_wiki'])\n",
    "    \n",
    "print(round(correlation, 3))"
   ]
  },
  {
   "cell_type": "markdown",
   "id": "7d1c5de4-b714-46e2-af6a-ad41e8a42f8f",
   "metadata": {},
   "source": [
    "#### Q12. Do hireable users follow more people than those who are not hireable?"
   ]
  },
  {
   "cell_type": "code",
   "execution_count": 20,
   "id": "cd51bed6-bba7-4407-94a9-ccc5e3968b4d",
   "metadata": {},
   "outputs": [
    {
     "data": {
      "text/plain": [
       "46.97489866455385"
      ]
     },
     "execution_count": 20,
     "metadata": {},
     "output_type": "execute_result"
    }
   ],
   "source": [
    "hireable_avg_following = users[users['hireable'] == True]['following'].mean()\n",
    "non_hireable_avg_following = users[users['hireable'] == False]['following'].mean()\n",
    "difference = hireable_avg_following - non_hireable_avg_following\n",
    "difference"
   ]
  },
  {
   "cell_type": "markdown",
   "id": "1f30dbcf-90f2-4531-b37c-0386828e1f9f",
   "metadata": {},
   "source": [
    "#### Q13. Some developers write long bios. Does that help them get more followers? What's the correlation of the length of their bio (in Unicode characters) with followers? (Ignore people without bios)"
   ]
  },
  {
   "cell_type": "code",
   "execution_count": 21,
   "id": "a324c8b4-9faf-4f4d-9c3d-0813e6bdbfb8",
   "metadata": {},
   "outputs": [
    {
     "data": {
      "text/plain": [
       "4.250293908158714"
      ]
     },
     "execution_count": 21,
     "metadata": {},
     "output_type": "execute_result"
    }
   ],
   "source": [
    "from sklearn.linear_model import LinearRegression\n",
    "users_with_bio = users[(users['bio'].notna()) & (users['bio'] != '')].copy()\n",
    "users_with_bio.loc[:, 'bio_len'] = users_with_bio['bio'].str.len()\n",
    "\n",
    "X = users_with_bio['bio_len'].values.reshape(-1,1)\n",
    "y = users_with_bio['followers']\n",
    "\n",
    "lr2 = LinearRegression()\n",
    "lr2.fit(X, y)\n",
    "lr2.coef_[0]"
   ]
  },
  {
   "cell_type": "markdown",
   "id": "96cb22e4-4046-40cf-9be5-06f096b0f0c3",
   "metadata": {},
   "source": [
    "#### Q14. Who created the most repositories on weekends (UTC)? List the top 5 users' login in order, comma-separated"
   ]
  },
  {
   "cell_type": "code",
   "execution_count": 22,
   "id": "ab49dafe-2981-4fe1-b603-0bee0e61e04f",
   "metadata": {},
   "outputs": [
    {
     "name": "stdout",
     "output_type": "stream",
     "text": [
      "janpio,derhuerst,saschanaz,jamesmunns,sunsided\n"
     ]
    }
   ],
   "source": [
    "import csv\n",
    "from collections import Counter\n",
    "from datetime import datetime\n",
    "\n",
    "weekend_repo_counts = Counter()\n",
    "\n",
    "with open('repositories.csv', 'r', encoding='utf-8') as file:\n",
    "    reader = csv.DictReader(file)\n",
    "    \n",
    "    for row in reader:\n",
    "        created_at = row.get('created_at', '')\n",
    "        if created_at:\n",
    "            created_date = datetime.fromisoformat(created_at[:-1])  \n",
    "            \n",
    "            if created_date.weekday() in [5, 6]:\n",
    "                user_login = row['login']\n",
    "                weekend_repo_counts[user_login] += 1  \n",
    "\n",
    "top_users = weekend_repo_counts.most_common(5)\n",
    "\n",
    "top_logins = [user[0] for user in top_users]\n",
    "\n",
    "print(','.join(top_logins))"
   ]
  },
  {
   "cell_type": "markdown",
   "id": "6d9da60a-2ff0-4421-808e-ab9a74bf02fb",
   "metadata": {},
   "source": [
    "#### Q15. Do people who are hireable share their email addresses more often?"
   ]
  },
  {
   "cell_type": "code",
   "execution_count": 23,
   "id": "b8381831-d1ed-4855-afc2-97ad1c06a1af",
   "metadata": {},
   "outputs": [
    {
     "data": {
      "text/plain": [
       "-0.004317521558900861"
      ]
     },
     "execution_count": 23,
     "metadata": {},
     "output_type": "execute_result"
    }
   ],
   "source": [
    "fraction_hierable = users[users['hireable'] == True]['email'].notna().mean()\n",
    "fraction_non_hierable = users[users['hireable'] == False]['email'].notna().mean()\n",
    "diff = fraction_hierable - fraction_non_hierable\n",
    "diff"
   ]
  },
  {
   "cell_type": "markdown",
   "id": "806a227e-1285-4c5f-bb05-867a3fd5101a",
   "metadata": {},
   "source": [
    "#### Q16. Let's assume that the last word in a user's name is their surname (ignore missing names, trim and split by whitespace.) What's the most common surname? (If there's a tie, list them all, comma-separated, alphabetically)"
   ]
  },
  {
   "cell_type": "code",
   "execution_count": 24,
   "id": "01a24dfb-05cc-4528-b118-558b2307639c",
   "metadata": {},
   "outputs": [
    {
     "name": "stdout",
     "output_type": "stream",
     "text": [
      "Schneider\n"
     ]
    }
   ],
   "source": [
    "new_users = users[users['name'].notna()].copy()\n",
    "new_users['surname'] = new_users['name'].str.split().str[-1].str.strip()\n",
    "surname_counts = new_users['surname'].value_counts()\n",
    "max_count = surname_counts.max()\n",
    "common_surnames = surname_counts[surname_counts == max_count].index.tolist()\n",
    "common_surnames.sort()\n",
    "print(','.join(common_surnames))"
   ]
  },
  {
   "cell_type": "code",
   "execution_count": 25,
   "id": "2cc25d8c-a405-46d2-ba14-78bf49fabbc6",
   "metadata": {},
   "outputs": [],
   "source": [
    "# users = users.fillna(\"\").astype(str)\n",
    "# repos = repos.fillna(\"\").astype(str)\n",
    "\n",
    "# repos['has_wiki'] = repos['has_wiki'].astype(str).replace({'True': 'true', 'False': 'false'})\n",
    "# repos['has_projects'] = repos['has_projects'].astype(str).replace({'True': 'true', 'False': 'false'})\n",
    "\n",
    "# # users.to_csv('users1.csv', index=False)\n",
    "# repos.to_csv('repos1.csv', index=False)"
   ]
  }
 ],
 "metadata": {
  "kernelspec": {
   "display_name": "Python 3",
   "language": "python",
   "name": "python3"
  },
  "language_info": {
   "codemirror_mode": {
    "name": "ipython",
    "version": 3
   },
   "file_extension": ".py",
   "mimetype": "text/x-python",
   "name": "python",
   "nbconvert_exporter": "python",
   "pygments_lexer": "ipython3",
   "version": "3.10.11"
  }
 },
 "nbformat": 4,
 "nbformat_minor": 5
}
